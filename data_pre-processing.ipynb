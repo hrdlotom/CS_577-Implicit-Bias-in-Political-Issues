{
 "cells": [
  {
   "cell_type": "markdown",
   "metadata": {},
   "source": [
    "### Imports"
   ]
  },
  {
   "cell_type": "code",
   "execution_count": 1,
   "metadata": {},
   "outputs": [],
   "source": [
    "import pandas as pd\n",
    "import nltk"
   ]
  },
  {
   "cell_type": "markdown",
   "metadata": {},
   "source": [
    "### Code"
   ]
  },
  {
   "cell_type": "code",
   "execution_count": 2,
   "metadata": {},
   "outputs": [
    {
     "name": "stdout",
     "output_type": "stream",
     "text": [
      "   author_id     topic                                               text  \\\n",
      "0       1788  abortion  The government has no place to tell a woman wh...   \n",
      "1        517  abortion  If a woman is raped and left with the bastard ...   \n",
      "2         21  abortion  It really depends the situation, if a girl/wom...   \n",
      "3        101  abortion  I support pro choice if nothing else because i...   \n",
      "4        168  abortion  I am personally against the abortion, but I be...   \n",
      "5        672  abortion  Here's an interesting thought for those of you...   \n",
      "6       1068  abortion  \"Fair all-around?\" Are you kidding? What could...   \n",
      "7       1729  abortion  It's not a question of what YOU choose, it's a...   \n",
      "8       1820  abortion  people can make the choice for themselves. it ...   \n",
      "9       1796  abortion  Surely if we are worried about the feelings of...   \n",
      "\n",
      "   topic_id  discussion_stance_id  topic_stance_id discussion_stance  \n",
      "0         3                     0                3        Pro-Choice  \n",
      "1         3                     0                3        Pro-Choice  \n",
      "2         3                     0                3        Pro-Choice  \n",
      "3         3                     0                3        Pro-Choice  \n",
      "4         3                     0                3        Pro-Choice  \n",
      "5         3                     0                3        Pro-Choice  \n",
      "6         3                     0                3        Pro-Choice  \n",
      "7         3                     0                3        Pro-Choice  \n",
      "8         3                     0                3        Pro-Choice  \n",
      "9         3                     0                3        Pro-Choice  \n"
     ]
    }
   ],
   "source": [
    "#to make it work for double quotes, our quote character needs to be a character that doesn't appear in text. Time for Czech special characters to shine :D\n",
    "df = pd.read_csv(\"./dataset/abortion_pro_choice.csv\", sep=';', quotechar='ž', engine='python')\n",
    "df.text = df.text.apply(lambda x: x[1:-1])\n",
    "\n",
    "\n",
    "print(df.head(n=10))"
   ]
  },
  {
   "cell_type": "code",
   "execution_count": null,
   "metadata": {},
   "outputs": [],
   "source": []
  }
 ],
 "metadata": {
  "kernelspec": {
   "display_name": "Python 3",
   "language": "python",
   "name": "python3"
  },
  "language_info": {
   "codemirror_mode": {
    "name": "ipython",
    "version": 3
   },
   "file_extension": ".py",
   "mimetype": "text/x-python",
   "name": "python",
   "nbconvert_exporter": "python",
   "pygments_lexer": "ipython3",
   "version": "3.7.3"
  }
 },
 "nbformat": 4,
 "nbformat_minor": 4
}
